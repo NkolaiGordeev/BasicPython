{
  "nbformat": 4,
  "nbformat_minor": 0,
  "metadata": {
    "colab": {
      "name": "century.ipynb",
      "provenance": [],
      "toc_visible": true,
      "authorship_tag": "ABX9TyOrY25YNWP2oHu20nMHJ9oH",
      "include_colab_link": true
    },
    "kernelspec": {
      "name": "python3",
      "display_name": "Python 3"
    },
    "language_info": {
      "name": "python"
    }
  },
  "cells": [
    {
      "cell_type": "markdown",
      "metadata": {
        "id": "view-in-github",
        "colab_type": "text"
      },
      "source": [
        "<a href=\"https://colab.research.google.com/github/NkolaiGordeev/BasicPython/blob/main/century.ipynb\" target=\"_parent\"><img src=\"https://colab.research.google.com/assets/colab-badge.svg\" alt=\"Open In Colab\"/></a>"
      ]
    },
    {
      "cell_type": "code",
      "source": [
        "year = input('Введите год ') # мы написали программу определения века по году\n",
        "year = float(year)\n",
        "century = int((year + 99) // 100)\n",
        "print('Сейчас', century, \"век\")"
      ],
      "metadata": {
        "colab": {
          "base_uri": "https://localhost:8080/"
        },
        "id": "kXf2TdpL2aVa",
        "outputId": "32a21906-880f-4eb2-cdf3-af2e8d465f39"
      },
      "execution_count": 1,
      "outputs": [
        {
          "output_type": "stream",
          "name": "stdout",
          "text": [
            "Введите год 789\n",
            "Сейчас 8 век\n"
          ]
        }
      ]
    },
    {
      "cell_type": "markdown",
      "source": [
        "Решим ту же самую задачу с помощью функции"
      ],
      "metadata": {
        "id": "ZtXHvnAh7UXG"
      }
    },
    {
      "cell_type": "code",
      "source": [
        "def century(year):\n",
        "  ''' Эта функция по определению века '''     # так мы написали описание нашей функции            \n",
        "  year = float(year)\n",
        "  return int((year + 99) // 100)\n",
        "\n",
        "year = input('Введите год ')  \n",
        "print('Сейчас', century(year), \"век\")         # здесь мы применили нашу функцию"
      ],
      "metadata": {
        "colab": {
          "base_uri": "https://localhost:8080/"
        },
        "id": "IZFr9srg7esL",
        "outputId": "8121fdbe-0a8e-436e-94ab-51a4956b82d0"
      },
      "execution_count": null,
      "outputs": [
        {
          "output_type": "stream",
          "name": "stdout",
          "text": [
            "Введите год 899\n",
            "Сейчас 9 век\n"
          ]
        }
      ]
    },
    {
      "cell_type": "code",
      "source": [
        "print (century.__doc__)    # а так можно вывести это описание"
      ],
      "metadata": {
        "colab": {
          "base_uri": "https://localhost:8080/"
        },
        "id": "8qJyzUtr9Mo0",
        "outputId": "0927260d-a19e-497c-958a-f9b672abc275"
      },
      "execution_count": null,
      "outputs": [
        {
          "output_type": "stream",
          "name": "stdout",
          "text": [
            " Эта функция по определению века \n"
          ]
        }
      ]
    }
  ]
}