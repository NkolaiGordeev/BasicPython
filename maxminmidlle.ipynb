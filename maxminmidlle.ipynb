{
  "nbformat": 4,
  "nbformat_minor": 0,
  "metadata": {
    "colab": {
      "name": "maxminmidlle",
      "provenance": [],
      "collapsed_sections": [],
      "authorship_tag": "ABX9TyOBrnX8eAL50V4aP3/SuIRH",
      "include_colab_link": true
    },
    "kernelspec": {
      "name": "python3",
      "display_name": "Python 3"
    }
  },
  "cells": [
    {
      "cell_type": "markdown",
      "metadata": {
        "id": "view-in-github",
        "colab_type": "text"
      },
      "source": [
        "<a href=\"https://colab.research.google.com/github/NkolaiGordeev/BasicPython/blob/main/maxminmidlle.ipynb\" target=\"_parent\"><img src=\"https://colab.research.google.com/assets/colab-badge.svg\" alt=\"Open In Colab\"/></a>"
      ]
    },
    {
      "cell_type": "code",
      "metadata": {
        "id": "alaNxlRnPuYR",
        "colab": {
          "base_uri": "https://localhost:8080/"
        },
        "outputId": "2e9fe240-752e-4767-bad5-f3f6736472fe"
      },
      "source": [
        "a = int(input())\n",
        "b = int(input())\n",
        "c = int(input())\n",
        "s = a + b + c\n",
        "print(max(a,b,c))\n",
        "print(min(a,b,c))\n",
        "print(s - max(a,b,c) - min(a,b,c))"
      ],
      "execution_count": 1,
      "outputs": [
        {
          "output_type": "stream",
          "name": "stdout",
          "text": [
            "12\n",
            "3\n",
            "7\n",
            "12\n",
            "3\n",
            "7\n"
          ]
        }
      ]
    },
    {
      "cell_type": "markdown",
      "metadata": {
        "id": "56xdysRmv19L"
      },
      "source": [
        "Напишите программу, которая получает на вход три целых числа, по одному числу в строке, и выводит на консоль в три строки сначала максимальное, потом минимальное, после чего оставшееся число.\n",
        "\n",
        "На ввод могут подаваться и повторяющиеся числа."
      ]
    }
  ]
}