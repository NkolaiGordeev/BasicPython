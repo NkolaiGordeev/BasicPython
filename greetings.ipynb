{
  "nbformat": 4,
  "nbformat_minor": 0,
  "metadata": {
    "colab": {
      "name": "greetings.ipynb",
      "provenance": [],
      "authorship_tag": "ABX9TyPFFcmKbY5dDypLJLsmGqNc",
      "include_colab_link": true
    },
    "kernelspec": {
      "name": "python3",
      "display_name": "Python 3"
    },
    "language_info": {
      "name": "python"
    }
  },
  "cells": [
    {
      "cell_type": "markdown",
      "metadata": {
        "id": "view-in-github",
        "colab_type": "text"
      },
      "source": [
        "<a href=\"https://colab.research.google.com/github/NkolaiGordeev/BasicPython/blob/main/greetings.ipynb\" target=\"_parent\"><img src=\"https://colab.research.google.com/assets/colab-badge.svg\" alt=\"Open In Colab\"/></a>"
      ]
    },
    {
      "cell_type": "code",
      "execution_count": null,
      "metadata": {
        "id": "X0Bnby7GxCW8"
      },
      "outputs": [],
      "source": [
        ""
      ]
    },
    {
      "cell_type": "code",
      "execution_count": null,
      "metadata": {
        "id": "2nx2tqetoYvl",
        "colab": {
          "base_uri": "https://localhost:8080/"
        },
        "outputId": "102676e1-5425-4b72-cb9c-4aa40ee596d9"
      },
      "outputs": [
        {
          "output_type": "stream",
          "name": "stdout",
          "text": [
            "What is your name Eva\n",
            "Hello Eva!\n"
          ]
        }
      ],
      "source": [
        "import random\n",
        "name = \"\"\n",
        "while name == \"\":    # пока имя не будет введено \n",
        "    name = input(\"What is your name \")  # цикл продолжится\n",
        "greetings = [\"Hi\", \"Hello\", \"yo\", \"Howdy\", \"Long time, no see\", \"Hiya\"]   # асортимент приветствий\n",
        "d = random.choice(greetings)  # случайный выбор приветствия\n",
        "print(d + \" \" + name + \"!\")"
      ]
    }
  ]
}