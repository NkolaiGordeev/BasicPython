{
  "nbformat": 4,
  "nbformat_minor": 0,
  "metadata": {
    "colab": {
      "name": "greetings.ipynb",
      "provenance": [],
      "authorship_tag": "ABX9TyOsggXnQCVOJEsDFrzxeaxz",
      "include_colab_link": true
    },
    "kernelspec": {
      "name": "python3",
      "display_name": "Python 3"
    },
    "language_info": {
      "name": "python"
    }
  },
  "cells": [
    {
      "cell_type": "markdown",
      "metadata": {
        "id": "view-in-github",
        "colab_type": "text"
      },
      "source": [
        "<a href=\"https://colab.research.google.com/github/NkolaiGordeev/BasicPython/blob/main/greetings.ipynb\" target=\"_parent\"><img src=\"https://colab.research.google.com/assets/colab-badge.svg\" alt=\"Open In Colab\"/></a>"
      ]
    },
    {
      "cell_type": "code",
      "execution_count": null,
      "metadata": {
        "id": "X0Bnby7GxCW8"
      },
      "outputs": [],
      "source": [
        ""
      ]
    },
    {
      "cell_type": "code",
      "execution_count": 6,
      "metadata": {
        "id": "2nx2tqetoYvl",
        "colab": {
          "base_uri": "https://localhost:8080/"
        },
        "outputId": "f93d52de-f630-4b85-8007-3d96f5ab413b"
      },
      "outputs": [
        {
          "output_type": "stream",
          "name": "stdout",
          "text": [
            "What is your name ttt\n",
            "Howdy ttt!\n"
          ]
        }
      ],
      "source": [
        "import random\n",
        "name = \"\"\n",
        "while name == \"\":\n",
        "    name = input(\"What is your name \")\n",
        "greetings = [\"Hi\", \"Hello\", \"yo\", \"Howdy\", \"Long time, no see\", \"Hiya\"]\n",
        "d = random.choice(greetings)\n",
        "print(d + \" \" + name + \"!\")"
      ]
    }
  ]
}